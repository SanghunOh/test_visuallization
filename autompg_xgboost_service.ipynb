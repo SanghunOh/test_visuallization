{
  "nbformat": 4,
  "nbformat_minor": 0,
  "metadata": {
    "colab": {
      "name": "autompg_xgboost_service.ipynb",
      "provenance": [],
      "authorship_tag": "ABX9TyMFH1VL/j/d41Y+C01kbfth",
      "include_colab_link": true
    },
    "kernelspec": {
      "name": "python3",
      "display_name": "Python 3"
    },
    "language_info": {
      "name": "python"
    }
  },
  "cells": [
    {
      "cell_type": "markdown",
      "metadata": {
        "id": "view-in-github",
        "colab_type": "text"
      },
      "source": [
        "<a href=\"https://colab.research.google.com/github/SanghunOh/test_visuallization/blob/main/autompg_xgboost_service.ipynb\" target=\"_parent\"><img src=\"https://colab.research.google.com/assets/colab-badge.svg\" alt=\"Open In Colab\"/></a>"
      ]
    },
    {
      "cell_type": "markdown",
      "metadata": {
        "id": "JczdMEYhnUrS"
      },
      "source": [
        "# load pickle with xgboot and scaler"
      ]
    },
    {
      "cell_type": "code",
      "metadata": {
        "id": "5TEGSq3bm3sl",
        "colab": {
          "base_uri": "https://localhost:8080/"
        },
        "outputId": "697ba5c1-1984-4aa0-d244-bba36dd62b65"
      },
      "source": [
        "import pickle\n",
        "model = pickle.load(open('./xgb_model.pkl', 'rb'))\n",
        "type(model)"
      ],
      "execution_count": 1,
      "outputs": [
        {
          "output_type": "stream",
          "text": [
            "[08:28:06] WARNING: /workspace/src/objective/regression_obj.cu:152: reg:linear is now deprecated in favor of reg:squarederror.\n"
          ],
          "name": "stdout"
        },
        {
          "output_type": "execute_result",
          "data": {
            "text/plain": [
              "xgboost.sklearn.XGBRegressor"
            ]
          },
          "metadata": {
            "tags": []
          },
          "execution_count": 1
        }
      ]
    },
    {
      "cell_type": "code",
      "metadata": {
        "id": "rJFt-WxEnKoT",
        "colab": {
          "base_uri": "https://localhost:8080/"
        },
        "outputId": "161b5654-175c-4c85-bea8-e8f8cbfa933d"
      },
      "source": [
        "scaler = pickle.load(open('./scaler_xgb.pkl','rb'))\n",
        "type(scaler)"
      ],
      "execution_count": 2,
      "outputs": [
        {
          "output_type": "execute_result",
          "data": {
            "text/plain": [
              "sklearn.preprocessing._data.StandardScaler"
            ]
          },
          "metadata": {
            "tags": []
          },
          "execution_count": 2
        }
      ]
    },
    {
      "cell_type": "markdown",
      "metadata": {
        "id": "cyacDpbP_y8x"
      },
      "source": [
        "# Predict"
      ]
    },
    {
      "cell_type": "code",
      "metadata": {
        "id": "xFSx28WJuXY5"
      },
      "source": [
        "displacement = 307.0\n",
        "horsepower = 130.0\n",
        "weight = 3504.0\n",
        "accel = 12.0\n",
        "cylinders = 8\n",
        "origin = 1\n",
        "\n",
        "if cylinders == 3:\n",
        "  cylinder = [1,0,0,0,0]\n",
        "elif cylinders == 4:\n",
        "  cylinder = [0,1,0,0,0]\n",
        "elif cylinders == 5:\n",
        "  cylinder = [0,0,1,0,0]\n",
        "elif cylinders == 6:\n",
        "  cylinder = [0,0,0,1,0]\n",
        "else cylinders == 8:\n",
        "  cylinder = [0,0,0,0,1]\n",
        "\n",
        "if origin == 1:\n",
        "  org = [1,0,0]\n",
        "elif origin == 2:\n",
        "  org = [0,1,0]\n",
        "else origin == 3:\n",
        "  org = [0,0,1]\n",
        "\n",
        "\n",
        "x_custmer = [[displacement, horsepower, weight, accel, cylinder, org]]\n",
        "#[[307.0,130.0,3504.0,12.0, 8, 1]]\n",
        "#->\n",
        "#[[307.0,130.0,3504.0,12.0, {0,0,0,0,1}, {1,0,0}]]\n",
        "#->\n",
        "#[[307.0,130.0,3504.0,12.0, 0,0,0,0,1, 1,0,0]]"
      ],
      "execution_count": 3,
      "outputs": []
    },
    {
      "cell_type": "code",
      "metadata": {
        "colab": {
          "base_uri": "https://localhost:8080/"
        },
        "id": "rwEO3bKqB9xf",
        "outputId": "6b875be2-b6b6-488f-cbb7-50bd7d43464a"
      },
      "source": [
        "x_custmer = scaler.transform([[307.0,130.0,3504.0,12.0, 0,0,0,0,1, 1,0,0]])\n",
        "x_custmer.shape"
      ],
      "execution_count": 5,
      "outputs": [
        {
          "output_type": "execute_result",
          "data": {
            "text/plain": [
              "(1, 12)"
            ]
          },
          "metadata": {
            "tags": []
          },
          "execution_count": 5
        }
      ]
    },
    {
      "cell_type": "code",
      "metadata": {
        "id": "am3szy76CKom",
        "colab": {
          "base_uri": "https://localhost:8080/"
        },
        "outputId": "170ebfa5-1d2e-497f-8fc4-dcf03c7b018b"
      },
      "source": [
        "y_pred = model.predict(x_custmer)\n",
        "y_pred[0]"
      ],
      "execution_count": 7,
      "outputs": [
        {
          "output_type": "execute_result",
          "data": {
            "text/plain": [
              "17.617666"
            ]
          },
          "metadata": {
            "tags": []
          },
          "execution_count": 7
        }
      ]
    },
    {
      "cell_type": "code",
      "metadata": {
        "id": "tNk02gS9-FMs"
      },
      "source": [
        ""
      ],
      "execution_count": null,
      "outputs": []
    }
  ]
}