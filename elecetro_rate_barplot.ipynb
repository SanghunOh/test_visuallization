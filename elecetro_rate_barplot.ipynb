{
  "nbformat": 4,
  "nbformat_minor": 0,
  "metadata": {
    "colab": {
      "name": "Untitled3.ipynb",
      "provenance": [],
      "authorship_tag": "ABX9TyNcuhWWF9obkMNdMuK1mMaV",
      "include_colab_link": true
    },
    "kernelspec": {
      "name": "python3",
      "display_name": "Python 3"
    },
    "language_info": {
      "name": "python"
    }
  },
  "cells": [
    {
      "cell_type": "markdown",
      "metadata": {
        "id": "view-in-github",
        "colab_type": "text"
      },
      "source": [
        "<a href=\"https://colab.research.google.com/github/SanghunOh/test_visuallization/blob/main/elecetro_rate_barplot.ipynb\" target=\"_parent\"><img src=\"https://colab.research.google.com/assets/colab-badge.svg\" alt=\"Open In Colab\"/></a>"
      ]
    },
    {
      "cell_type": "code",
      "metadata": {
        "id": "4ziBPQBJcq50"
      },
      "source": [
        "import pandas as pd"
      ],
      "execution_count": null,
      "outputs": []
    },
    {
      "cell_type": "code",
      "metadata": {
        "id": "lOSumSkfc7I_"
      },
      "source": [
        "df = pd.read_excel('남북한발전전력량.xlsx')\n",
        "df"
      ],
      "execution_count": null,
      "outputs": []
    },
    {
      "cell_type": "code",
      "metadata": {
        "id": "b2AQQKb2f15c"
      },
      "source": [
        "df.head(3)"
      ],
      "execution_count": null,
      "outputs": []
    },
    {
      "cell_type": "code",
      "metadata": {
        "id": "1Ha_fMGVdFOG"
      },
      "source": [
        "# df.iloc[0:2,0:2]\n",
        "df_ns = df.iloc[[0,5],2:]"
      ],
      "execution_count": null,
      "outputs": []
    },
    {
      "cell_type": "code",
      "metadata": {
        "id": "oL8ek6SkfpcM"
      },
      "source": [
        "# df.loc[0:2,'전력량 (억㎾h)':'발전 전력별']\n",
        "df.loc[[0,5],'1990':]"
      ],
      "execution_count": null,
      "outputs": []
    },
    {
      "cell_type": "code",
      "metadata": {
        "colab": {
          "base_uri": "https://localhost:8080/",
          "height": 132
        },
        "id": "duX72yCThlF0",
        "outputId": "2a274f72-f62f-405c-d2d9-314aed2e1c5f"
      },
      "source": [
        "df_ns"
      ],
      "execution_count": null,
      "outputs": [
        {
          "output_type": "execute_result",
          "data": {
            "text/html": [
              "<div>\n",
              "<style scoped>\n",
              "    .dataframe tbody tr th:only-of-type {\n",
              "        vertical-align: middle;\n",
              "    }\n",
              "\n",
              "    .dataframe tbody tr th {\n",
              "        vertical-align: top;\n",
              "    }\n",
              "\n",
              "    .dataframe thead th {\n",
              "        text-align: right;\n",
              "    }\n",
              "</style>\n",
              "<table border=\"1\" class=\"dataframe\">\n",
              "  <thead>\n",
              "    <tr style=\"text-align: right;\">\n",
              "      <th></th>\n",
              "      <th>1990</th>\n",
              "      <th>1991</th>\n",
              "      <th>1992</th>\n",
              "      <th>1993</th>\n",
              "      <th>1994</th>\n",
              "      <th>1995</th>\n",
              "      <th>1996</th>\n",
              "      <th>1997</th>\n",
              "      <th>1998</th>\n",
              "      <th>1999</th>\n",
              "      <th>2000</th>\n",
              "      <th>2001</th>\n",
              "      <th>2002</th>\n",
              "      <th>2003</th>\n",
              "      <th>2004</th>\n",
              "      <th>2005</th>\n",
              "      <th>2006</th>\n",
              "      <th>2007</th>\n",
              "      <th>2008</th>\n",
              "      <th>2009</th>\n",
              "      <th>2010</th>\n",
              "      <th>2011</th>\n",
              "      <th>2012</th>\n",
              "      <th>2013</th>\n",
              "      <th>2014</th>\n",
              "      <th>2015</th>\n",
              "      <th>2016</th>\n",
              "    </tr>\n",
              "  </thead>\n",
              "  <tbody>\n",
              "    <tr>\n",
              "      <th>0</th>\n",
              "      <td>1077</td>\n",
              "      <td>1186</td>\n",
              "      <td>1310</td>\n",
              "      <td>1444</td>\n",
              "      <td>1650</td>\n",
              "      <td>1847</td>\n",
              "      <td>2055</td>\n",
              "      <td>2244</td>\n",
              "      <td>2153</td>\n",
              "      <td>2393</td>\n",
              "      <td>2664</td>\n",
              "      <td>2852</td>\n",
              "      <td>3065</td>\n",
              "      <td>3225</td>\n",
              "      <td>3421</td>\n",
              "      <td>3646</td>\n",
              "      <td>3812</td>\n",
              "      <td>4031</td>\n",
              "      <td>4224</td>\n",
              "      <td>4336</td>\n",
              "      <td>4747</td>\n",
              "      <td>4969</td>\n",
              "      <td>5096</td>\n",
              "      <td>5171</td>\n",
              "      <td>5220</td>\n",
              "      <td>5281</td>\n",
              "      <td>5404</td>\n",
              "    </tr>\n",
              "    <tr>\n",
              "      <th>5</th>\n",
              "      <td>277</td>\n",
              "      <td>263</td>\n",
              "      <td>247</td>\n",
              "      <td>221</td>\n",
              "      <td>231</td>\n",
              "      <td>230</td>\n",
              "      <td>213</td>\n",
              "      <td>193</td>\n",
              "      <td>170</td>\n",
              "      <td>186</td>\n",
              "      <td>194</td>\n",
              "      <td>202</td>\n",
              "      <td>190</td>\n",
              "      <td>196</td>\n",
              "      <td>206</td>\n",
              "      <td>215</td>\n",
              "      <td>225</td>\n",
              "      <td>236</td>\n",
              "      <td>255</td>\n",
              "      <td>235</td>\n",
              "      <td>237</td>\n",
              "      <td>211</td>\n",
              "      <td>215</td>\n",
              "      <td>221</td>\n",
              "      <td>216</td>\n",
              "      <td>190</td>\n",
              "      <td>239</td>\n",
              "    </tr>\n",
              "  </tbody>\n",
              "</table>\n",
              "</div>"
            ],
            "text/plain": [
              "   1990  1991  1992  1993  1994  1995  ...  2011  2012  2013  2014  2015  2016\n",
              "0  1077  1186  1310  1444  1650  1847  ...  4969  5096  5171  5220  5281  5404\n",
              "5   277   263   247   221   231   230  ...   211   215   221   216   190   239\n",
              "\n",
              "[2 rows x 27 columns]"
            ]
          },
          "metadata": {
            "tags": []
          },
          "execution_count": 29
        }
      ]
    },
    {
      "cell_type": "code",
      "metadata": {
        "id": "0F-EKPy1j9Tb"
      },
      "source": [
        "# df.columns = [, , , , , , ,]"
      ],
      "execution_count": null,
      "outputs": []
    },
    {
      "cell_type": "code",
      "metadata": {
        "colab": {
          "base_uri": "https://localhost:8080/",
          "height": 132
        },
        "id": "oLrKgL93js5K",
        "outputId": "e07e3785-4b4d-4071-c034-52cc9271c8d5"
      },
      "source": [
        "df_ns.index = ['South','North']\n",
        "df_ns"
      ],
      "execution_count": null,
      "outputs": [
        {
          "output_type": "execute_result",
          "data": {
            "text/html": [
              "<div>\n",
              "<style scoped>\n",
              "    .dataframe tbody tr th:only-of-type {\n",
              "        vertical-align: middle;\n",
              "    }\n",
              "\n",
              "    .dataframe tbody tr th {\n",
              "        vertical-align: top;\n",
              "    }\n",
              "\n",
              "    .dataframe thead th {\n",
              "        text-align: right;\n",
              "    }\n",
              "</style>\n",
              "<table border=\"1\" class=\"dataframe\">\n",
              "  <thead>\n",
              "    <tr style=\"text-align: right;\">\n",
              "      <th></th>\n",
              "      <th>1990</th>\n",
              "      <th>1991</th>\n",
              "      <th>1992</th>\n",
              "      <th>1993</th>\n",
              "      <th>1994</th>\n",
              "      <th>1995</th>\n",
              "      <th>1996</th>\n",
              "      <th>1997</th>\n",
              "      <th>1998</th>\n",
              "      <th>1999</th>\n",
              "      <th>2000</th>\n",
              "      <th>2001</th>\n",
              "      <th>2002</th>\n",
              "      <th>2003</th>\n",
              "      <th>2004</th>\n",
              "      <th>2005</th>\n",
              "      <th>2006</th>\n",
              "      <th>2007</th>\n",
              "      <th>2008</th>\n",
              "      <th>2009</th>\n",
              "      <th>2010</th>\n",
              "      <th>2011</th>\n",
              "      <th>2012</th>\n",
              "      <th>2013</th>\n",
              "      <th>2014</th>\n",
              "      <th>2015</th>\n",
              "      <th>2016</th>\n",
              "    </tr>\n",
              "  </thead>\n",
              "  <tbody>\n",
              "    <tr>\n",
              "      <th>South</th>\n",
              "      <td>1077</td>\n",
              "      <td>1186</td>\n",
              "      <td>1310</td>\n",
              "      <td>1444</td>\n",
              "      <td>1650</td>\n",
              "      <td>1847</td>\n",
              "      <td>2055</td>\n",
              "      <td>2244</td>\n",
              "      <td>2153</td>\n",
              "      <td>2393</td>\n",
              "      <td>2664</td>\n",
              "      <td>2852</td>\n",
              "      <td>3065</td>\n",
              "      <td>3225</td>\n",
              "      <td>3421</td>\n",
              "      <td>3646</td>\n",
              "      <td>3812</td>\n",
              "      <td>4031</td>\n",
              "      <td>4224</td>\n",
              "      <td>4336</td>\n",
              "      <td>4747</td>\n",
              "      <td>4969</td>\n",
              "      <td>5096</td>\n",
              "      <td>5171</td>\n",
              "      <td>5220</td>\n",
              "      <td>5281</td>\n",
              "      <td>5404</td>\n",
              "    </tr>\n",
              "    <tr>\n",
              "      <th>North</th>\n",
              "      <td>277</td>\n",
              "      <td>263</td>\n",
              "      <td>247</td>\n",
              "      <td>221</td>\n",
              "      <td>231</td>\n",
              "      <td>230</td>\n",
              "      <td>213</td>\n",
              "      <td>193</td>\n",
              "      <td>170</td>\n",
              "      <td>186</td>\n",
              "      <td>194</td>\n",
              "      <td>202</td>\n",
              "      <td>190</td>\n",
              "      <td>196</td>\n",
              "      <td>206</td>\n",
              "      <td>215</td>\n",
              "      <td>225</td>\n",
              "      <td>236</td>\n",
              "      <td>255</td>\n",
              "      <td>235</td>\n",
              "      <td>237</td>\n",
              "      <td>211</td>\n",
              "      <td>215</td>\n",
              "      <td>221</td>\n",
              "      <td>216</td>\n",
              "      <td>190</td>\n",
              "      <td>239</td>\n",
              "    </tr>\n",
              "  </tbody>\n",
              "</table>\n",
              "</div>"
            ],
            "text/plain": [
              "       1990  1991  1992  1993  1994  1995  ...  2011  2012  2013  2014  2015  2016\n",
              "South  1077  1186  1310  1444  1650  1847  ...  4969  5096  5171  5220  5281  5404\n",
              "North   277   263   247   221   231   230  ...   211   215   221   216   190   239\n",
              "\n",
              "[2 rows x 27 columns]"
            ]
          },
          "metadata": {
            "tags": []
          },
          "execution_count": 31
        }
      ]
    },
    {
      "cell_type": "code",
      "metadata": {
        "colab": {
          "base_uri": "https://localhost:8080/",
          "height": 895
        },
        "id": "Rc_3lmdw3gFS",
        "outputId": "56ce34c8-e6eb-4c82-f3a4-b3443ecf1594"
      },
      "source": [
        "df_ns = df_ns.transpose()\n",
        "df_ns"
      ],
      "execution_count": null,
      "outputs": [
        {
          "output_type": "execute_result",
          "data": {
            "text/html": [
              "<div>\n",
              "<style scoped>\n",
              "    .dataframe tbody tr th:only-of-type {\n",
              "        vertical-align: middle;\n",
              "    }\n",
              "\n",
              "    .dataframe tbody tr th {\n",
              "        vertical-align: top;\n",
              "    }\n",
              "\n",
              "    .dataframe thead th {\n",
              "        text-align: right;\n",
              "    }\n",
              "</style>\n",
              "<table border=\"1\" class=\"dataframe\">\n",
              "  <thead>\n",
              "    <tr style=\"text-align: right;\">\n",
              "      <th></th>\n",
              "      <th>South</th>\n",
              "      <th>North</th>\n",
              "    </tr>\n",
              "  </thead>\n",
              "  <tbody>\n",
              "    <tr>\n",
              "      <th>1990</th>\n",
              "      <td>1077</td>\n",
              "      <td>277</td>\n",
              "    </tr>\n",
              "    <tr>\n",
              "      <th>1991</th>\n",
              "      <td>1186</td>\n",
              "      <td>263</td>\n",
              "    </tr>\n",
              "    <tr>\n",
              "      <th>1992</th>\n",
              "      <td>1310</td>\n",
              "      <td>247</td>\n",
              "    </tr>\n",
              "    <tr>\n",
              "      <th>1993</th>\n",
              "      <td>1444</td>\n",
              "      <td>221</td>\n",
              "    </tr>\n",
              "    <tr>\n",
              "      <th>1994</th>\n",
              "      <td>1650</td>\n",
              "      <td>231</td>\n",
              "    </tr>\n",
              "    <tr>\n",
              "      <th>1995</th>\n",
              "      <td>1847</td>\n",
              "      <td>230</td>\n",
              "    </tr>\n",
              "    <tr>\n",
              "      <th>1996</th>\n",
              "      <td>2055</td>\n",
              "      <td>213</td>\n",
              "    </tr>\n",
              "    <tr>\n",
              "      <th>1997</th>\n",
              "      <td>2244</td>\n",
              "      <td>193</td>\n",
              "    </tr>\n",
              "    <tr>\n",
              "      <th>1998</th>\n",
              "      <td>2153</td>\n",
              "      <td>170</td>\n",
              "    </tr>\n",
              "    <tr>\n",
              "      <th>1999</th>\n",
              "      <td>2393</td>\n",
              "      <td>186</td>\n",
              "    </tr>\n",
              "    <tr>\n",
              "      <th>2000</th>\n",
              "      <td>2664</td>\n",
              "      <td>194</td>\n",
              "    </tr>\n",
              "    <tr>\n",
              "      <th>2001</th>\n",
              "      <td>2852</td>\n",
              "      <td>202</td>\n",
              "    </tr>\n",
              "    <tr>\n",
              "      <th>2002</th>\n",
              "      <td>3065</td>\n",
              "      <td>190</td>\n",
              "    </tr>\n",
              "    <tr>\n",
              "      <th>2003</th>\n",
              "      <td>3225</td>\n",
              "      <td>196</td>\n",
              "    </tr>\n",
              "    <tr>\n",
              "      <th>2004</th>\n",
              "      <td>3421</td>\n",
              "      <td>206</td>\n",
              "    </tr>\n",
              "    <tr>\n",
              "      <th>2005</th>\n",
              "      <td>3646</td>\n",
              "      <td>215</td>\n",
              "    </tr>\n",
              "    <tr>\n",
              "      <th>2006</th>\n",
              "      <td>3812</td>\n",
              "      <td>225</td>\n",
              "    </tr>\n",
              "    <tr>\n",
              "      <th>2007</th>\n",
              "      <td>4031</td>\n",
              "      <td>236</td>\n",
              "    </tr>\n",
              "    <tr>\n",
              "      <th>2008</th>\n",
              "      <td>4224</td>\n",
              "      <td>255</td>\n",
              "    </tr>\n",
              "    <tr>\n",
              "      <th>2009</th>\n",
              "      <td>4336</td>\n",
              "      <td>235</td>\n",
              "    </tr>\n",
              "    <tr>\n",
              "      <th>2010</th>\n",
              "      <td>4747</td>\n",
              "      <td>237</td>\n",
              "    </tr>\n",
              "    <tr>\n",
              "      <th>2011</th>\n",
              "      <td>4969</td>\n",
              "      <td>211</td>\n",
              "    </tr>\n",
              "    <tr>\n",
              "      <th>2012</th>\n",
              "      <td>5096</td>\n",
              "      <td>215</td>\n",
              "    </tr>\n",
              "    <tr>\n",
              "      <th>2013</th>\n",
              "      <td>5171</td>\n",
              "      <td>221</td>\n",
              "    </tr>\n",
              "    <tr>\n",
              "      <th>2014</th>\n",
              "      <td>5220</td>\n",
              "      <td>216</td>\n",
              "    </tr>\n",
              "    <tr>\n",
              "      <th>2015</th>\n",
              "      <td>5281</td>\n",
              "      <td>190</td>\n",
              "    </tr>\n",
              "    <tr>\n",
              "      <th>2016</th>\n",
              "      <td>5404</td>\n",
              "      <td>239</td>\n",
              "    </tr>\n",
              "  </tbody>\n",
              "</table>\n",
              "</div>"
            ],
            "text/plain": [
              "     South North\n",
              "1990  1077   277\n",
              "1991  1186   263\n",
              "1992  1310   247\n",
              "1993  1444   221\n",
              "1994  1650   231\n",
              "1995  1847   230\n",
              "1996  2055   213\n",
              "1997  2244   193\n",
              "1998  2153   170\n",
              "1999  2393   186\n",
              "2000  2664   194\n",
              "2001  2852   202\n",
              "2002  3065   190\n",
              "2003  3225   196\n",
              "2004  3421   206\n",
              "2005  3646   215\n",
              "2006  3812   225\n",
              "2007  4031   236\n",
              "2008  4224   255\n",
              "2009  4336   235\n",
              "2010  4747   237\n",
              "2011  4969   211\n",
              "2012  5096   215\n",
              "2013  5171   221\n",
              "2014  5220   216\n",
              "2015  5281   190\n",
              "2016  5404   239"
            ]
          },
          "metadata": {
            "tags": []
          },
          "execution_count": 35
        }
      ]
    },
    {
      "cell_type": "code",
      "metadata": {
        "colab": {
          "base_uri": "https://localhost:8080/",
          "height": 299
        },
        "id": "DQLgShKMkX46",
        "outputId": "248d895f-6e70-4711-cce1-390c2f968db3"
      },
      "source": [
        "df_ns.plot(kind='bar')"
      ],
      "execution_count": null,
      "outputs": [
        {
          "output_type": "execute_result",
          "data": {
            "text/plain": [
              "<matplotlib.axes._subplots.AxesSubplot at 0x7f519111b750>"
            ]
          },
          "metadata": {
            "tags": []
          },
          "execution_count": 48
        },
        {
          "output_type": "display_data",
          "data": {
            "image/png": "[encoded data removed]",
            "text/plain": [
              "<Figure size 432x288 with 1 Axes>"
            ]
          },
          "metadata": {
            "tags": [],
            "needs_background": "light"
          }
        }
      ]
    },
    {
      "cell_type": "code",
      "metadata": {
        "colab": {
          "base_uri": "https://localhost:8080/"
        },
        "id": "i5Uw6eWkkspy",
        "outputId": "41644140-e42f-40d3-a867-a61c97ac2780"
      },
      "source": [
        "type(df_ns)"
      ],
      "execution_count": null,
      "outputs": [
        {
          "output_type": "execute_result",
          "data": {
            "text/plain": [
              "pandas.core.frame.DataFrame"
            ]
          },
          "metadata": {
            "tags": []
          },
          "execution_count": 33
        }
      ]
    },
    {
      "cell_type": "code",
      "metadata": {
        "id": "uOgmvHKM7C2p"
      },
      "source": [
        ""
      ],
      "execution_count": null,
      "outputs": []
    }
  ]
}